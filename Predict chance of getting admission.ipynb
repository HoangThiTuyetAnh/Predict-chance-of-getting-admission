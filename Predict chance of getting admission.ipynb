{
 "cells": [
  {
   "cell_type": "markdown",
   "metadata": {},
   "source": [
    "# Predict chance of getting admission into University\n",
    "### Problem statement\n",
    "Determine each applicant's chance of admission based on their results on two exams. You have historical data from previous applicants that you can use as a training set for logistic regression. For each training example, you have the applicant's scores on two exams and the admissions decision.\n",
    "### Dataset\n",
    "| Exam 1 Score      | Exam 2 Score      | Admission |\n",
    "|-------------------|-------------------|-----------|\n",
    "| 34.62365962451697 | 78.0246928153624  | 0         |\n",
    "| 30.28671076822607 | 43.89499752400101 | 0         |\n",
    "| 60.18259938620976 | 86.30855209546826 | 1         |\n",
    "\n",
    "Now we have to predict chance of getting admission into university (including which is not mention in our example dataset).\n",
    "\n",
    "**Note:This problem statement and dataset is from coursera Andrew ng machine learning [Coursework](https://www.coursera.org/learn/machine-learning)**\n"
   ]
  },
  {
   "cell_type": "code",
   "execution_count": 1,
   "metadata": {
    "collapsed": true
   },
   "outputs": [],
   "source": [
    "import numpy as np\n",
    "import matplotlib.pyplot as plt\n",
    "# supress scientific value\n",
    "np.set_printoptions(suppress=True) "
   ]
  },
  {
   "cell_type": "code",
   "execution_count": 2,
   "metadata": {},
   "outputs": [
    {
     "data": {
      "text/plain": [
       "array([[ 34.62365962,  78.02469282,   0.        ],\n",
       "       [ 30.28671077,  43.89499752,   0.        ],\n",
       "       [ 35.84740877,  72.90219803,   0.        ],\n",
       "       [ 60.18259939,  86.3085521 ,   1.        ],\n",
       "       [ 79.03273605,  75.34437644,   1.        ]])"
      ]
     },
     "execution_count": 2,
     "metadata": {},
     "output_type": "execute_result"
    }
   ],
   "source": [
    "data = np.loadtxt(\"ex2data1.txt\",dtype=np.float64,delimiter=\",\")\n",
    "data[0:5,::]"
   ]
  },
  {
   "cell_type": "code",
   "execution_count": 3,
   "metadata": {
    "collapsed": true
   },
   "outputs": [],
   "source": [
    "# split data into features and outputs\n",
    "X = data[::,0:2]\n",
    "Y = data[::,-1:]"
   ]
  },
  {
   "cell_type": "code",
   "execution_count": 4,
   "metadata": {},
   "outputs": [
    {
     "data": {
      "image/png": "[encoded data removed]",
      "text/plain": [
       "<matplotlib.figure.Figure at 0x60ad670>"
      ]
     },
     "metadata": {},
     "output_type": "display_data"
    }
   ],
   "source": [
    "# Visualising the Dataset\n",
    "X_get_admit = np.select([Y==1],[X])\n",
    "X_not_admit = np.select([Y==0],[X])\n",
    "plt.xlabel(\"Exam 1 score\")\n",
    "plt.ylabel(\"Exam 2 score\")\n",
    "plt.xlim(30,110)\n",
    "plt.ylim(30,110)\n",
    "plt.scatter(X_get_admit[::,0:1],X_get_admit[::,-1:],label=\"Admitted\",color=\"#2ecc71\" )\n",
    "plt.scatter(X_not_admit[::,0:1],X_not_admit[::,-1:],label=\"Not Admitted\",color=\"#e74c3c\")\n",
    "plt.legend(loc = \"upper right\",frameon=True)\n",
    "plt.show()\n"
   ]
  },
  {
   "cell_type": "code",
   "execution_count": 5,
   "metadata": {
    "collapsed": true
   },
   "outputs": [],
   "source": [
    "# sigmoid function\n",
    "def sigmoid(Z):\n",
    "    return (1/(1+np.exp(-Z)))\n",
    "\n",
    "# hypothesis with sigmoid\n",
    "def hypothesis(X_bias,Theta):\n",
    "    #here Theta is 1d convert it into 2d\n",
    "    hx = X_bias.dot((Theta.reshape((1,3))).transpose())\n",
    "    return sigmoid(hx)\n",
    "    "
   ]
  },
  {
   "cell_type": "code",
   "execution_count": 6,
   "metadata": {
    "collapsed": true
   },
   "outputs": [],
   "source": [
    "# cost function\n",
    "def cost(Theta,X_bias,Y):\n",
    "    m,n = X_bias.shape\n",
    "    hx = (hypothesis(X_bias,Theta))\n",
    "    first = np.multiply(-Y,np.log(hx))\n",
    "    second = np.multiply((1-Y),np.log(1-hx))\n",
    "    return (1.0/m)*np.sum(first - second)"
   ]
  },
  {
   "cell_type": "code",
   "execution_count": 7,
   "metadata": {},
   "outputs": [
    {
     "data": {
      "text/plain": [
       "0.69314718055994529"
      ]
     },
     "execution_count": 7,
     "metadata": {},
     "output_type": "execute_result"
    }
   ],
   "source": [
    "m,n = X.shape\n",
    "Theta = np.zeros(n+1)\n",
    "X_bias = np.ones((m,n+1))\n",
    "X_bias[::,1:] = X\n",
    "cost(Theta,X_bias,Y)"
   ]
  },
  {
   "cell_type": "code",
   "execution_count": 8,
   "metadata": {},
   "outputs": [
    {
     "data": {
      "text/plain": [
       "array([ -0.1       , -12.00921659, -11.26284221])"
      ]
     },
     "execution_count": 8,
     "metadata": {},
     "output_type": "execute_result"
    }
   ],
   "source": [
    "# gradient finding method used for advance optimization algorithm\n",
    "def gradient(Theta,X_bias,Y):\n",
    "    m,n = X_bias.shape\n",
    "    grad = np.zeros(n) \n",
    "    hx = hypothesis(X_bias,Theta)\n",
    "    error = hx -Y\n",
    "    for i in xrange(n):\n",
    "        element = np.multiply(error,X_bias[:,i].reshape((100,1)))\n",
    "        grad[i] = np.sum(element)/len(X_bias)\n",
    "    return grad    \n",
    "gradient(Theta, X_bias, Y)"
   ]
  },
  {
   "cell_type": "code",
   "execution_count": 9,
   "metadata": {},
   "outputs": [
    {
     "name": "stdout",
     "output_type": "stream",
     "text": [
      "(array([-25.16131862,   0.20623159,   0.20147149]), 36, 0)\n"
     ]
    }
   ],
   "source": [
    "import scipy.optimize as opt\n",
    "result = opt.fmin_tnc(func=cost, x0=Theta, fprime=gradient, args=(X_bias,Y))\n",
    "print result"
   ]
  },
  {
   "cell_type": "code",
   "execution_count": 10,
   "metadata": {},
   "outputs": [
    {
     "name": "stdout",
     "output_type": "stream",
     "text": [
      "[-25.16131862   0.20623159   0.20147149]\n",
      "(3,)\n"
     ]
    }
   ],
   "source": [
    "Theta = result[0]\n",
    "print Theta # result is 1d array convert it to 2d array for bug free calculation\n",
    "print Theta.shape"
   ]
  },
  {
   "cell_type": "code",
   "execution_count": 11,
   "metadata": {},
   "outputs": [
    {
     "data": {
      "text/plain": [
       "0.20349770158947456"
      ]
     },
     "execution_count": 11,
     "metadata": {},
     "output_type": "execute_result"
    }
   ],
   "source": [
    "cost(Theta, X_bias, Y)\n"
   ]
  },
  {
   "cell_type": "code",
   "execution_count": 12,
   "metadata": {},
   "outputs": [
    {
     "name": "stdout",
     "output_type": "stream",
     "text": [
      "accuracy 89.0 % with threshold  0.5\n"
     ]
    }
   ],
   "source": [
    "hx = hypothesis(X_bias,Theta)\n",
    "# assume 1 if hx >= 0.5 and assume 0 if hx < 0.5\n",
    "threshold = 0.5\n",
    "prediction = np.select([hx >= threshold, hx < threshold],[1,0])\n",
    "final_error =  (np.sum(np.absolute(Y-prediction))/len(X))*100\n",
    "print 'accuracy', (100-final_error),'% with threshold ',threshold"
   ]
  },
  {
   "cell_type": "code",
   "execution_count": 13,
   "metadata": {},
   "outputs": [
    {
     "name": "stdout",
     "output_type": "stream",
     "text": [
      "accuracy 92.0 % with threshold  0.3\n"
     ]
    }
   ],
   "source": [
    "# lets try with different threshold\n",
    "threshold = 0.3\n",
    "prediction = np.select([hx >= threshold, hx < threshold],[1,0])\n",
    "final_error =  (np.sum(np.absolute(Y-prediction))/len(X))*100\n",
    "print 'accuracy', (100-final_error),'% with threshold ',threshold"
   ]
  }
 ],
 "metadata": {
  "kernelspec": {
   "display_name": "Python 2",
   "language": "python",
   "name": "python2"
  },
  "language_info": {
   "codemirror_mode": {
    "name": "ipython",
    "version": 2
   },
   "file_extension": ".py",
   "mimetype": "text/x-python",
   "name": "python",
   "nbconvert_exporter": "python",
   "pygments_lexer": "ipython2",
   "version": "2.7.13"
  }
 },
 "nbformat": 4,
 "nbformat_minor": 2
}
